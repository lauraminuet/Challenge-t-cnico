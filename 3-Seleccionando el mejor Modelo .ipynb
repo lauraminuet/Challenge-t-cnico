{
 "cells": [
  {
   "cell_type": "markdown",
   "metadata": {},
   "source": [
    "# Challenge 1 -- Buscando el mejor Modelo\n",
    "\n",
    "En esta notebook se trata de buscar el mejor modelo para logar predecir si un articulo es nuevo o usado\n"
   ]
  },
  {
   "cell_type": "code",
   "execution_count": 1,
   "metadata": {},
   "outputs": [],
   "source": [
    "import pandas as pd\n",
    "import numpy as np\n",
    "import json\n",
    "from sklearn.model_selection import GridSearchCV, train_test_split\n",
    "from sklearn.metrics import roc_auc_score, accuracy_score, precision_score, recall_score, f1_score\n",
    "from sklearn.linear_model import LogisticRegression\n",
    "from sklearn.tree import DecisionTreeClassifier\n",
    "from sklearn.svm import SVC\n",
    "from sklearn.ensemble import RandomForestClassifier\n",
    "from sklearn.discriminant_analysis import LinearDiscriminantAnalysis, QuadraticDiscriminantAnalysis\n",
    "from sklearn.cluster import KMeans\n",
    "from sklearn.neighbors import KNeighborsClassifier\n",
    "from sklearn.naive_bayes import GaussianNB\n",
    "from sklearn.metrics import precision_recall_fscore_support\n",
    "from sklearn.metrics import mean_squared_error as mse\n",
    "from sklearn.preprocessing import StandardScaler\n",
    "from sklearn.model_selection import cross_validate\n",
    "from sklearn.ensemble import ExtraTreesClassifier\n",
    "from sklearn.feature_selection import SelectFromModel\n",
    "from sklearn.svm import LinearSVC\n",
    "from sklearn.ensemble import VotingClassifier\n",
    "from sklearn.feature_selection import RFECV\n"
   ]
  },
  {
   "cell_type": "code",
   "execution_count": 2,
   "metadata": {},
   "outputs": [],
   "source": [
    "import warnings\n",
    "warnings.simplefilter(\"ignore\")"
   ]
  },
  {
   "cell_type": "code",
   "execution_count": 3,
   "metadata": {},
   "outputs": [
    {
     "data": {
      "text/html": [
       "<div>\n",
       "<style scoped>\n",
       "    .dataframe tbody tr th:only-of-type {\n",
       "        vertical-align: middle;\n",
       "    }\n",
       "\n",
       "    .dataframe tbody tr th {\n",
       "        vertical-align: top;\n",
       "    }\n",
       "\n",
       "    .dataframe thead th {\n",
       "        text-align: right;\n",
       "    }\n",
       "</style>\n",
       "<table border=\"1\" class=\"dataframe\">\n",
       "  <thead>\n",
       "    <tr style=\"text-align: right;\">\n",
       "      <th></th>\n",
       "      <th>condition</th>\n",
       "      <th>base_price</th>\n",
       "      <th>price</th>\n",
       "      <th>accepts_mercadopago</th>\n",
       "      <th>automatic_relist</th>\n",
       "      <th>initial_quantity</th>\n",
       "      <th>sold_quantity</th>\n",
       "      <th>available_quantity</th>\n",
       "      <th>shipping.local_pick_up</th>\n",
       "      <th>shipping.free_shipping</th>\n",
       "    </tr>\n",
       "  </thead>\n",
       "  <tbody>\n",
       "    <tr>\n",
       "      <th>0</th>\n",
       "      <td>1</td>\n",
       "      <td>80.0</td>\n",
       "      <td>80.0</td>\n",
       "      <td>1</td>\n",
       "      <td>0</td>\n",
       "      <td>1</td>\n",
       "      <td>0</td>\n",
       "      <td>1</td>\n",
       "      <td>1</td>\n",
       "      <td>0</td>\n",
       "    </tr>\n",
       "    <tr>\n",
       "      <th>1</th>\n",
       "      <td>0</td>\n",
       "      <td>2650.0</td>\n",
       "      <td>2650.0</td>\n",
       "      <td>1</td>\n",
       "      <td>0</td>\n",
       "      <td>1</td>\n",
       "      <td>0</td>\n",
       "      <td>1</td>\n",
       "      <td>1</td>\n",
       "      <td>0</td>\n",
       "    </tr>\n",
       "    <tr>\n",
       "      <th>2</th>\n",
       "      <td>0</td>\n",
       "      <td>60.0</td>\n",
       "      <td>60.0</td>\n",
       "      <td>1</td>\n",
       "      <td>0</td>\n",
       "      <td>1</td>\n",
       "      <td>0</td>\n",
       "      <td>1</td>\n",
       "      <td>1</td>\n",
       "      <td>0</td>\n",
       "    </tr>\n",
       "    <tr>\n",
       "      <th>3</th>\n",
       "      <td>1</td>\n",
       "      <td>580.0</td>\n",
       "      <td>580.0</td>\n",
       "      <td>1</td>\n",
       "      <td>0</td>\n",
       "      <td>1</td>\n",
       "      <td>0</td>\n",
       "      <td>1</td>\n",
       "      <td>1</td>\n",
       "      <td>0</td>\n",
       "    </tr>\n",
       "    <tr>\n",
       "      <th>4</th>\n",
       "      <td>0</td>\n",
       "      <td>30.0</td>\n",
       "      <td>30.0</td>\n",
       "      <td>1</td>\n",
       "      <td>0</td>\n",
       "      <td>1</td>\n",
       "      <td>0</td>\n",
       "      <td>1</td>\n",
       "      <td>1</td>\n",
       "      <td>0</td>\n",
       "    </tr>\n",
       "  </tbody>\n",
       "</table>\n",
       "</div>"
      ],
      "text/plain": [
       "   condition  base_price   price  accepts_mercadopago  automatic_relist  \\\n",
       "0          1        80.0    80.0                    1                 0   \n",
       "1          0      2650.0  2650.0                    1                 0   \n",
       "2          0        60.0    60.0                    1                 0   \n",
       "3          1       580.0   580.0                    1                 0   \n",
       "4          0        30.0    30.0                    1                 0   \n",
       "\n",
       "   initial_quantity  sold_quantity  available_quantity  \\\n",
       "0                 1              0                   1   \n",
       "1                 1              0                   1   \n",
       "2                 1              0                   1   \n",
       "3                 1              0                   1   \n",
       "4                 1              0                   1   \n",
       "\n",
       "   shipping.local_pick_up  shipping.free_shipping  \n",
       "0                       1                       0  \n",
       "1                       1                       0  \n",
       "2                       1                       0  \n",
       "3                       1                       0  \n",
       "4                       1                       0  "
      ]
     },
     "execution_count": 3,
     "metadata": {},
     "output_type": "execute_result"
    }
   ],
   "source": [
    "X = pd.read_csv('MLA_100k.csv')\n",
    "X=X.drop('Unnamed: 0',1)\n",
    "X=X.drop(['seller_id'], axis=1)\n",
    "X.head()"
   ]
  },
  {
   "cell_type": "markdown",
   "metadata": {},
   "source": [
    "## Testing algorithms <a class=\"anchor\" id=\"second-bullet\"></a>"
   ]
  },
  {
   "cell_type": "code",
   "execution_count": 5,
   "metadata": {},
   "outputs": [],
   "source": [
    "y = X['condition']\n",
    "X = X.drop('condition',axis=1)"
   ]
  },
  {
   "cell_type": "markdown",
   "metadata": {},
   "source": [
    "### Withouth reduction <a class=\"anchor\" id=\"without_red\"></a>"
   ]
  },
  {
   "cell_type": "code",
   "execution_count": 6,
   "metadata": {},
   "outputs": [],
   "source": [
    "X_train, X_test, y_train, y_test = train_test_split(X,y,test_size=0.34)"
   ]
  },
  {
   "cell_type": "code",
   "execution_count": 7,
   "metadata": {},
   "outputs": [
    {
     "data": {
      "text/plain": [
       "(66000, 34000, 66000, 34000)"
      ]
     },
     "execution_count": 7,
     "metadata": {},
     "output_type": "execute_result"
    }
   ],
   "source": [
    "len(X_train), len(X_test), len(y_train), len(y_test)"
   ]
  },
  {
   "cell_type": "markdown",
   "metadata": {},
   "source": [
    "#### CLASSIFIERS"
   ]
  },
  {
   "cell_type": "code",
   "execution_count": 9,
   "metadata": {},
   "outputs": [],
   "source": [
    "from Classifiers import Clas_LogisticRegression \n",
    "LR_fit_time, LR_score_time, LR_accuracy, LR_precision, LR_recall, LR_f1, LR_roc= Clas_LogisticRegression(X_train, y_train)"
   ]
  },
  {
   "cell_type": "code",
   "execution_count": 10,
   "metadata": {},
   "outputs": [],
   "source": [
    "from Classifiers import Clas_DecisionTree \n",
    "dtree_fit_time, dtree_score_time, dtree_accuracy, dtree_precision, dtree_recall, dtree_f1, dtree_roc= Clas_DecisionTree(X_train, y_train)"
   ]
  },
  {
   "cell_type": "code",
   "execution_count": 11,
   "metadata": {},
   "outputs": [],
   "source": [
    "from Classifiers import Clas_LDA\n",
    "LDA_fit_time, LDA_score_time, LDA_accuracy, LDA_precision, LDA_recall, LDA_f1, LDA_roc = Clas_LDA(X_train, y_train)"
   ]
  },
  {
   "cell_type": "code",
   "execution_count": 12,
   "metadata": {},
   "outputs": [],
   "source": [
    "from Classifiers import Clas_QDA\n",
    "QDA_fit_time, QDA_score_time, QDA_accuracy, QDA_precision, QDA_recall, QDA_f1, QDA_roc = Clas_QDA(X_train, y_train)"
   ]
  },
  {
   "cell_type": "code",
   "execution_count": 13,
   "metadata": {},
   "outputs": [],
   "source": [
    "from Classifiers import Clas_RFOREST\n",
    "forest_fit_time, forest_score_time, forest_accuracy, forest_precision, forest_recall, forest_f1, forest_roc  = Clas_RFOREST(X_train, y_train)"
   ]
  },
  {
   "cell_type": "code",
   "execution_count": 14,
   "metadata": {},
   "outputs": [],
   "source": [
    "from Classifiers import Clas_KNN\n",
    "KNN_fit_time, KNN_score_time, KNN_accuracy, KNN_precision, KNN_recall, KNN_f1, KNN_roc = Clas_KNN(X_train, y_train)"
   ]
  },
  {
   "cell_type": "code",
   "execution_count": 15,
   "metadata": {},
   "outputs": [],
   "source": [
    "from Classifiers import Clas_GNB\n",
    "bayes_fit_time, bayes_score_time, bayes_accuracy, bayes_precision, bayes_recall, bayes_f1, bayes_roc = Clas_GNB(X_train, y_train)"
   ]
  },
  {
   "cell_type": "markdown",
   "metadata": {},
   "source": [
    "### Comparacion"
   ]
  },
  {
   "cell_type": "code",
   "execution_count": 16,
   "metadata": {},
   "outputs": [
    {
     "data": {
      "text/html": [
       "<div>\n",
       "<style scoped>\n",
       "    .dataframe tbody tr th:only-of-type {\n",
       "        vertical-align: middle;\n",
       "    }\n",
       "\n",
       "    .dataframe tbody tr th {\n",
       "        vertical-align: top;\n",
       "    }\n",
       "\n",
       "    .dataframe thead th {\n",
       "        text-align: right;\n",
       "    }\n",
       "</style>\n",
       "<table border=\"1\" class=\"dataframe\">\n",
       "  <thead>\n",
       "    <tr style=\"text-align: right;\">\n",
       "      <th></th>\n",
       "      <th>Model</th>\n",
       "      <th>Fitting time</th>\n",
       "      <th>Scoring time</th>\n",
       "      <th>Accuracy</th>\n",
       "      <th>Precision</th>\n",
       "      <th>Recall</th>\n",
       "      <th>F1_score</th>\n",
       "      <th>AUC_ROC</th>\n",
       "    </tr>\n",
       "  </thead>\n",
       "  <tbody>\n",
       "    <tr>\n",
       "      <th>4</th>\n",
       "      <td>Random Forest</td>\n",
       "      <td>5.640021</td>\n",
       "      <td>0.181594</td>\n",
       "      <td>0.794758</td>\n",
       "      <td>0.802615</td>\n",
       "      <td>0.800450</td>\n",
       "      <td>0.794390</td>\n",
       "      <td>0.861538</td>\n",
       "    </tr>\n",
       "    <tr>\n",
       "      <th>1</th>\n",
       "      <td>Decision Tree</td>\n",
       "      <td>0.179996</td>\n",
       "      <td>0.010244</td>\n",
       "      <td>0.787152</td>\n",
       "      <td>0.799225</td>\n",
       "      <td>0.794171</td>\n",
       "      <td>0.786250</td>\n",
       "      <td>0.835743</td>\n",
       "    </tr>\n",
       "    <tr>\n",
       "      <th>5</th>\n",
       "      <td>K-Nearest Neighbors</td>\n",
       "      <td>0.992482</td>\n",
       "      <td>0.221711</td>\n",
       "      <td>0.777545</td>\n",
       "      <td>0.780049</td>\n",
       "      <td>0.780724</td>\n",
       "      <td>0.777686</td>\n",
       "      <td>0.836120</td>\n",
       "    </tr>\n",
       "    <tr>\n",
       "      <th>3</th>\n",
       "      <td>Quadratic Discriminant Analysis</td>\n",
       "      <td>0.041093</td>\n",
       "      <td>0.022256</td>\n",
       "      <td>0.569318</td>\n",
       "      <td>0.736801</td>\n",
       "      <td>0.597949</td>\n",
       "      <td>0.497789</td>\n",
       "      <td>0.793211</td>\n",
       "    </tr>\n",
       "    <tr>\n",
       "      <th>2</th>\n",
       "      <td>Linear Discriminant Analysis</td>\n",
       "      <td>0.210975</td>\n",
       "      <td>0.014342</td>\n",
       "      <td>0.559152</td>\n",
       "      <td>0.560054</td>\n",
       "      <td>0.536107</td>\n",
       "      <td>0.509100</td>\n",
       "      <td>0.767400</td>\n",
       "    </tr>\n",
       "    <tr>\n",
       "      <th>0</th>\n",
       "      <td>Logistic Regression</td>\n",
       "      <td>0.103412</td>\n",
       "      <td>0.011643</td>\n",
       "      <td>0.484864</td>\n",
       "      <td>0.544718</td>\n",
       "      <td>0.512995</td>\n",
       "      <td>0.324541</td>\n",
       "      <td>0.426267</td>\n",
       "    </tr>\n",
       "    <tr>\n",
       "      <th>6</th>\n",
       "      <td>Bayes</td>\n",
       "      <td>0.027484</td>\n",
       "      <td>0.009143</td>\n",
       "      <td>0.478258</td>\n",
       "      <td>0.719163</td>\n",
       "      <td>0.510454</td>\n",
       "      <td>0.322234</td>\n",
       "      <td>0.747665</td>\n",
       "    </tr>\n",
       "  </tbody>\n",
       "</table>\n",
       "</div>"
      ],
      "text/plain": [
       "                             Model  Fitting time  Scoring time  Accuracy  \\\n",
       "4                    Random Forest      5.640021      0.181594  0.794758   \n",
       "1                    Decision Tree      0.179996      0.010244  0.787152   \n",
       "5              K-Nearest Neighbors      0.992482      0.221711  0.777545   \n",
       "3  Quadratic Discriminant Analysis      0.041093      0.022256  0.569318   \n",
       "2     Linear Discriminant Analysis      0.210975      0.014342  0.559152   \n",
       "0              Logistic Regression      0.103412      0.011643  0.484864   \n",
       "6                            Bayes      0.027484      0.009143  0.478258   \n",
       "\n",
       "   Precision    Recall  F1_score   AUC_ROC  \n",
       "4   0.802615  0.800450  0.794390  0.861538  \n",
       "1   0.799225  0.794171  0.786250  0.835743  \n",
       "5   0.780049  0.780724  0.777686  0.836120  \n",
       "3   0.736801  0.597949  0.497789  0.793211  \n",
       "2   0.560054  0.536107  0.509100  0.767400  \n",
       "0   0.544718  0.512995  0.324541  0.426267  \n",
       "6   0.719163  0.510454  0.322234  0.747665  "
      ]
     },
     "execution_count": 16,
     "metadata": {},
     "output_type": "execute_result"
    }
   ],
   "source": [
    "models_initial = pd.DataFrame({\n",
    "    'Model'       : ['Logistic Regression', 'Decision Tree', 'Linear Discriminant Analysis', 'Quadratic Discriminant Analysis', 'Random Forest', 'K-Nearest Neighbors', 'Bayes'],\n",
    "    'Fitting time': [LR_fit_time, dtree_fit_time,  LDA_fit_time, QDA_fit_time, forest_fit_time, KNN_fit_time, bayes_fit_time],\n",
    "    'Scoring time': [LR_score_time, dtree_score_time, LDA_score_time, QDA_score_time, forest_score_time, KNN_score_time, bayes_score_time],\n",
    "    'Accuracy'    : [LR_accuracy, dtree_accuracy,  LDA_accuracy, QDA_accuracy, forest_accuracy, KNN_accuracy, bayes_accuracy],\n",
    "    'Precision'   : [LR_precision, dtree_precision, LDA_precision, QDA_precision, forest_precision, KNN_precision, bayes_precision],\n",
    "    'Recall'      : [LR_recall, dtree_recall, LDA_recall, QDA_recall, forest_recall, KNN_recall, bayes_recall],\n",
    "    'F1_score'    : [LR_f1, dtree_f1,  LDA_f1, QDA_f1, forest_f1, KNN_f1, bayes_f1],\n",
    "    'AUC_ROC'     : [LR_roc, dtree_roc, LDA_roc, QDA_roc, forest_roc, KNN_roc, bayes_roc],\n",
    "    }, columns = ['Model', 'Fitting time', 'Scoring time', 'Accuracy', 'Precision', 'Recall', 'F1_score', 'AUC_ROC'])\n",
    "\n",
    "models_initial.sort_values(by='Accuracy', ascending=False)"
   ]
  },
  {
   "cell_type": "markdown",
   "metadata": {},
   "source": [
    "## CONCLUSIÓN\n",
    "\n",
    "Analizando las variables y los distintos modelos la clonclusion obtenida es:\n",
    "\n",
    "Random Forest serpia el mejor modelo, pero en cuanto al tiempo es el que mas se demoro de todos. "
   ]
  },
  {
   "cell_type": "code",
   "execution_count": null,
   "metadata": {},
   "outputs": [],
   "source": []
  }
 ],
 "metadata": {
  "kernelspec": {
   "display_name": "Python 3",
   "language": "python",
   "name": "python3"
  },
  "language_info": {
   "codemirror_mode": {
    "name": "ipython",
    "version": 3
   },
   "file_extension": ".py",
   "mimetype": "text/x-python",
   "name": "python",
   "nbconvert_exporter": "python",
   "pygments_lexer": "ipython3",
   "version": "3.6.10"
  }
 },
 "nbformat": 4,
 "nbformat_minor": 4
}
