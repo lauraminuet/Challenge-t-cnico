{
 "cells": [
  {
   "cell_type": "markdown",
   "metadata": {},
   "source": [
    "## Libraries <a class=\"anchor\" id=\"zero-bullet\"></a>"
   ]
  },
  {
   "cell_type": "code",
   "execution_count": 1,
   "metadata": {},
   "outputs": [
    {
     "name": "stderr",
     "output_type": "stream",
     "text": [
      "C:\\Users\\Laura\\Anaconda3\\lib\\site-packages\\sklearn\\ensemble\\weight_boosting.py:29: DeprecationWarning: numpy.core.umath_tests is an internal NumPy module and should not be imported. It will be removed in a future NumPy release.\n",
      "  from numpy.core.umath_tests import inner1d\n"
     ]
    }
   ],
   "source": [
    "import pandas as pd\n",
    "import numpy as np\n",
    "import json\n",
    "from sklearn.model_selection import GridSearchCV, train_test_split\n",
    "from sklearn.metrics import roc_auc_score, accuracy_score, precision_score, recall_score, f1_score\n",
    "from sklearn.linear_model import LogisticRegression\n",
    "from sklearn.tree import DecisionTreeClassifier\n",
    "from sklearn.svm import SVC\n",
    "from sklearn.ensemble import RandomForestClassifier\n",
    "from sklearn.discriminant_analysis import LinearDiscriminantAnalysis, QuadraticDiscriminantAnalysis\n",
    "from sklearn.cluster import KMeans\n",
    "from sklearn.neighbors import KNeighborsClassifier\n",
    "from sklearn.naive_bayes import GaussianNB\n",
    "from sklearn.metrics import precision_recall_fscore_support\n",
    "from sklearn.metrics import mean_squared_error as mse\n",
    "from sklearn.preprocessing import StandardScaler\n",
    "from sklearn.model_selection import cross_validate\n",
    "from sklearn.ensemble import ExtraTreesClassifier\n",
    "from sklearn.feature_selection import SelectFromModel\n",
    "from sklearn.svm import LinearSVC\n",
    "from sklearn.ensemble import VotingClassifier\n",
    "from sklearn.feature_selection import RFECV"
   ]
  },
  {
   "cell_type": "code",
   "execution_count": 2,
   "metadata": {},
   "outputs": [],
   "source": [
    "import warnings\n",
    "warnings.filterwarnings('ignore')"
   ]
  },
  {
   "cell_type": "markdown",
   "metadata": {},
   "source": [
    "## Data set cleaning <a class=\"anchor\" id=\"first-bullet\"></a>"
   ]
  },
  {
   "cell_type": "code",
   "execution_count": 3,
   "metadata": {},
   "outputs": [],
   "source": [
    "initial_data = pd.read_json(\"MLA_100k.jsonlines\",lines=True)"
   ]
  },
  {
   "cell_type": "code",
   "execution_count": 4,
   "metadata": {
    "scrolled": true
   },
   "outputs": [
    {
     "data": {
      "text/html": [
       "<div>\n",
       "<style scoped>\n",
       "    .dataframe tbody tr th:only-of-type {\n",
       "        vertical-align: middle;\n",
       "    }\n",
       "\n",
       "    .dataframe tbody tr th {\n",
       "        vertical-align: top;\n",
       "    }\n",
       "\n",
       "    .dataframe thead th {\n",
       "        text-align: right;\n",
       "    }\n",
       "</style>\n",
       "<table border=\"1\" class=\"dataframe\">\n",
       "  <thead>\n",
       "    <tr style=\"text-align: right;\">\n",
       "      <th></th>\n",
       "      <th>accepts_mercadopago</th>\n",
       "      <th>attributes</th>\n",
       "      <th>automatic_relist</th>\n",
       "      <th>available_quantity</th>\n",
       "      <th>base_price</th>\n",
       "      <th>buying_mode</th>\n",
       "      <th>catalog_product_id</th>\n",
       "      <th>category_id</th>\n",
       "      <th>condition</th>\n",
       "      <th>coverage_areas</th>\n",
       "      <th>...</th>\n",
       "      <th>status</th>\n",
       "      <th>stop_time</th>\n",
       "      <th>sub_status</th>\n",
       "      <th>subtitle</th>\n",
       "      <th>tags</th>\n",
       "      <th>thumbnail</th>\n",
       "      <th>title</th>\n",
       "      <th>variations</th>\n",
       "      <th>video_id</th>\n",
       "      <th>warranty</th>\n",
       "    </tr>\n",
       "  </thead>\n",
       "  <tbody>\n",
       "    <tr>\n",
       "      <th>0</th>\n",
       "      <td>True</td>\n",
       "      <td>[]</td>\n",
       "      <td>False</td>\n",
       "      <td>1</td>\n",
       "      <td>80.0</td>\n",
       "      <td>buy_it_now</td>\n",
       "      <td>NaN</td>\n",
       "      <td>MLA126406</td>\n",
       "      <td>new</td>\n",
       "      <td>[]</td>\n",
       "      <td>...</td>\n",
       "      <td>active</td>\n",
       "      <td>2015-11-04 20:42:53</td>\n",
       "      <td>[]</td>\n",
       "      <td>NaN</td>\n",
       "      <td>[dragged_bids_and_visits]</td>\n",
       "      <td>http://mla-s1-p.mlstatic.com/5386-MLA435206787...</td>\n",
       "      <td>Auriculares Samsung Originales Manos Libres Ca...</td>\n",
       "      <td>[]</td>\n",
       "      <td>None</td>\n",
       "      <td>None</td>\n",
       "    </tr>\n",
       "    <tr>\n",
       "      <th>1</th>\n",
       "      <td>True</td>\n",
       "      <td>[]</td>\n",
       "      <td>False</td>\n",
       "      <td>1</td>\n",
       "      <td>2650.0</td>\n",
       "      <td>buy_it_now</td>\n",
       "      <td>NaN</td>\n",
       "      <td>MLA10267</td>\n",
       "      <td>used</td>\n",
       "      <td>[]</td>\n",
       "      <td>...</td>\n",
       "      <td>active</td>\n",
       "      <td>2015-11-25 18:08:30</td>\n",
       "      <td>[]</td>\n",
       "      <td>NaN</td>\n",
       "      <td>[]</td>\n",
       "      <td>http://mla-s1-p.mlstatic.com/23223-MLA20245018...</td>\n",
       "      <td>Cuchillo Daga Acero Carbón Casco Yelmo Solinge...</td>\n",
       "      <td>[]</td>\n",
       "      <td>None</td>\n",
       "      <td>NUESTRA REPUTACION</td>\n",
       "    </tr>\n",
       "    <tr>\n",
       "      <th>2</th>\n",
       "      <td>True</td>\n",
       "      <td>[]</td>\n",
       "      <td>False</td>\n",
       "      <td>1</td>\n",
       "      <td>60.0</td>\n",
       "      <td>buy_it_now</td>\n",
       "      <td>NaN</td>\n",
       "      <td>MLA1227</td>\n",
       "      <td>used</td>\n",
       "      <td>[]</td>\n",
       "      <td>...</td>\n",
       "      <td>active</td>\n",
       "      <td>2015-11-08 23:57:07</td>\n",
       "      <td>[]</td>\n",
       "      <td>NaN</td>\n",
       "      <td>[dragged_bids_and_visits]</td>\n",
       "      <td>http://mla-s1-p.mlstatic.com/22076-MLA20223367...</td>\n",
       "      <td>Antigua Revista Billiken, N° 1826, Año 1954</td>\n",
       "      <td>[]</td>\n",
       "      <td>None</td>\n",
       "      <td>None</td>\n",
       "    </tr>\n",
       "    <tr>\n",
       "      <th>3</th>\n",
       "      <td>True</td>\n",
       "      <td>[]</td>\n",
       "      <td>False</td>\n",
       "      <td>1</td>\n",
       "      <td>580.0</td>\n",
       "      <td>buy_it_now</td>\n",
       "      <td>NaN</td>\n",
       "      <td>MLA86345</td>\n",
       "      <td>new</td>\n",
       "      <td>[]</td>\n",
       "      <td>...</td>\n",
       "      <td>active</td>\n",
       "      <td>2015-12-04 01:13:16</td>\n",
       "      <td>[]</td>\n",
       "      <td>NaN</td>\n",
       "      <td>[]</td>\n",
       "      <td>http://mla-s2-p.mlstatic.com/183901-MLA2043288...</td>\n",
       "      <td>Alarma Guardtex Gx412 Seguridad Para El Automo...</td>\n",
       "      <td>[]</td>\n",
       "      <td>None</td>\n",
       "      <td>None</td>\n",
       "    </tr>\n",
       "    <tr>\n",
       "      <th>4</th>\n",
       "      <td>True</td>\n",
       "      <td>[]</td>\n",
       "      <td>False</td>\n",
       "      <td>1</td>\n",
       "      <td>30.0</td>\n",
       "      <td>buy_it_now</td>\n",
       "      <td>NaN</td>\n",
       "      <td>MLA41287</td>\n",
       "      <td>used</td>\n",
       "      <td>[]</td>\n",
       "      <td>...</td>\n",
       "      <td>active</td>\n",
       "      <td>2015-10-23 22:07:20</td>\n",
       "      <td>[]</td>\n",
       "      <td>NaN</td>\n",
       "      <td>[dragged_bids_and_visits]</td>\n",
       "      <td>http://mla-s2-p.mlstatic.com/13595-MLA13041807...</td>\n",
       "      <td>Serenata - Jennifer Blake</td>\n",
       "      <td>[]</td>\n",
       "      <td>None</td>\n",
       "      <td>MI REPUTACION.</td>\n",
       "    </tr>\n",
       "  </tbody>\n",
       "</table>\n",
       "<p>5 rows × 48 columns</p>\n",
       "</div>"
      ],
      "text/plain": [
       "   accepts_mercadopago attributes  automatic_relist  available_quantity  \\\n",
       "0                 True         []             False                   1   \n",
       "1                 True         []             False                   1   \n",
       "2                 True         []             False                   1   \n",
       "3                 True         []             False                   1   \n",
       "4                 True         []             False                   1   \n",
       "\n",
       "   base_price buying_mode  catalog_product_id category_id condition  \\\n",
       "0        80.0  buy_it_now                 NaN   MLA126406       new   \n",
       "1      2650.0  buy_it_now                 NaN    MLA10267      used   \n",
       "2        60.0  buy_it_now                 NaN     MLA1227      used   \n",
       "3       580.0  buy_it_now                 NaN    MLA86345       new   \n",
       "4        30.0  buy_it_now                 NaN    MLA41287      used   \n",
       "\n",
       "  coverage_areas         ...          status           stop_time sub_status  \\\n",
       "0             []         ...          active 2015-11-04 20:42:53         []   \n",
       "1             []         ...          active 2015-11-25 18:08:30         []   \n",
       "2             []         ...          active 2015-11-08 23:57:07         []   \n",
       "3             []         ...          active 2015-12-04 01:13:16         []   \n",
       "4             []         ...          active 2015-10-23 22:07:20         []   \n",
       "\n",
       "  subtitle                       tags  \\\n",
       "0      NaN  [dragged_bids_and_visits]   \n",
       "1      NaN                         []   \n",
       "2      NaN  [dragged_bids_and_visits]   \n",
       "3      NaN                         []   \n",
       "4      NaN  [dragged_bids_and_visits]   \n",
       "\n",
       "                                           thumbnail  \\\n",
       "0  http://mla-s1-p.mlstatic.com/5386-MLA435206787...   \n",
       "1  http://mla-s1-p.mlstatic.com/23223-MLA20245018...   \n",
       "2  http://mla-s1-p.mlstatic.com/22076-MLA20223367...   \n",
       "3  http://mla-s2-p.mlstatic.com/183901-MLA2043288...   \n",
       "4  http://mla-s2-p.mlstatic.com/13595-MLA13041807...   \n",
       "\n",
       "                                               title  variations video_id  \\\n",
       "0  Auriculares Samsung Originales Manos Libres Ca...          []     None   \n",
       "1  Cuchillo Daga Acero Carbón Casco Yelmo Solinge...          []     None   \n",
       "2        Antigua Revista Billiken, N° 1826, Año 1954          []     None   \n",
       "3  Alarma Guardtex Gx412 Seguridad Para El Automo...          []     None   \n",
       "4                          Serenata - Jennifer Blake          []     None   \n",
       "\n",
       "             warranty  \n",
       "0                None  \n",
       "1  NUESTRA REPUTACION  \n",
       "2                None  \n",
       "3                None  \n",
       "4      MI REPUTACION.  \n",
       "\n",
       "[5 rows x 48 columns]"
      ]
     },
     "execution_count": 4,
     "metadata": {},
     "output_type": "execute_result"
    }
   ],
   "source": [
    "initial_data.head()\n"
   ]
  },
  {
   "cell_type": "code",
   "execution_count": 5,
   "metadata": {},
   "outputs": [],
   "source": [
    "initial_data['condition']=initial_data['condition'].map({\"new\":1,\"used\":0})\n",
    "X = initial_data[['available_quantity', 'base_price']]\n",
    "\n",
    "y = initial_data['condition']"
   ]
  },
  {
   "cell_type": "markdown",
   "metadata": {},
   "source": [
    "### Class distribution <a class=\"anchor\" id=\"first-bullet\"></a>"
   ]
  },
  {
   "cell_type": "code",
   "execution_count": 7,
   "metadata": {
    "scrolled": true
   },
   "outputs": [
    {
     "data": {
      "image/png": "[encoded data removed]",
      "text/plain": [
       "<Figure size 432x288 with 1 Axes>"
      ]
     },
     "metadata": {
      "needs_background": "light"
     },
     "output_type": "display_data"
    }
   ],
   "source": [
    "import seaborn as sns\n",
    "import matplotlib.pyplot as plt\n",
    "\n",
    "sns.countplot(initial_data['condition'],label=\"Sum\")\n",
    "\n",
    "plt.show()"
   ]
  },
  {
   "cell_type": "markdown",
   "metadata": {},
   "source": [
    "## Testing algorithms <a class=\"anchor\" id=\"second-bullet\"></a>"
   ]
  },
  {
   "cell_type": "markdown",
   "metadata": {},
   "source": [
    "### Withouth reduction <a class=\"anchor\" id=\"without_red\"></a>"
   ]
  },
  {
   "cell_type": "code",
   "execution_count": 8,
   "metadata": {},
   "outputs": [],
   "source": [
    "X_train, X_test, y_train, y_test = train_test_split(X,y,test_size=0.34)"
   ]
  },
  {
   "cell_type": "code",
   "execution_count": 9,
   "metadata": {},
   "outputs": [
    {
     "data": {
      "text/plain": [
       "(66000, 34000, 66000, 34000)"
      ]
     },
     "execution_count": 9,
     "metadata": {},
     "output_type": "execute_result"
    }
   ],
   "source": [
    "len(X_train), len(X_test), len(y_train), len(y_test)"
   ]
  },
  {
   "cell_type": "markdown",
   "metadata": {},
   "source": [
    "#### CLASSIFIERS"
   ]
  },
  {
   "cell_type": "code",
   "execution_count": 10,
   "metadata": {},
   "outputs": [],
   "source": [
    "import warnings\n",
    "warnings.filterwarnings('ignore')"
   ]
  },
  {
   "cell_type": "code",
   "execution_count": 11,
   "metadata": {
    "scrolled": true
   },
   "outputs": [],
   "source": [
    "from Classifiers import Clas_LogisticRegression \n",
    "LR_fit_time, LR_score_time, LR_accuracy, LR_precision, LR_recall, LR_f1, LR_roc= Clas_LogisticRegression(X_train, y_train)"
   ]
  },
  {
   "cell_type": "code",
   "execution_count": 12,
   "metadata": {},
   "outputs": [],
   "source": [
    "from Classifiers import Clas_DecisionTree \n",
    "dtree_fit_time, dtree_score_time, dtree_accuracy, dtree_precision, dtree_recall, dtree_f1, dtree_roc= Clas_DecisionTree(X_train, y_train)"
   ]
  },
  {
   "cell_type": "code",
   "execution_count": 13,
   "metadata": {},
   "outputs": [],
   "source": [
    "from Classifiers import Clas_LDA\n",
    "LDA_fit_time, LDA_score_time, LDA_accuracy, LDA_precision, LDA_recall, LDA_f1, LDA_roc = Clas_LDA(X_train, y_train)"
   ]
  },
  {
   "cell_type": "code",
   "execution_count": 14,
   "metadata": {},
   "outputs": [],
   "source": [
    "from Classifiers import Clas_QDA\n",
    "QDA_fit_time, QDA_score_time, QDA_accuracy, QDA_precision, QDA_recall, QDA_f1, QDA_roc = Clas_QDA(X_train, y_train)"
   ]
  },
  {
   "cell_type": "code",
   "execution_count": 15,
   "metadata": {},
   "outputs": [],
   "source": [
    "from Classifiers import Clas_RFOREST\n",
    "forest_fit_time, forest_score_time, forest_accuracy, forest_precision, forest_recall, forest_f1, forest_roc  = Clas_RFOREST(X_train, y_train)"
   ]
  },
  {
   "cell_type": "code",
   "execution_count": 16,
   "metadata": {},
   "outputs": [],
   "source": [
    "from Classifiers import Clas_KNN\n",
    "KNN_fit_time, KNN_score_time, KNN_accuracy, KNN_precision, KNN_recall, KNN_f1, KNN_roc = Clas_KNN(X_train, y_train)"
   ]
  },
  {
   "cell_type": "code",
   "execution_count": 17,
   "metadata": {},
   "outputs": [],
   "source": [
    "from Classifiers import Clas_GNB\n",
    "bayes_fit_time, bayes_score_time, bayes_accuracy, bayes_precision, bayes_recall, bayes_f1, bayes_roc = Clas_GNB(X_train, y_train)"
   ]
  },
  {
   "cell_type": "markdown",
   "metadata": {},
   "source": [
    "### Comparacion"
   ]
  },
  {
   "cell_type": "code",
   "execution_count": 18,
   "metadata": {},
   "outputs": [
    {
     "data": {
      "text/html": [
       "<div>\n",
       "<style scoped>\n",
       "    .dataframe tbody tr th:only-of-type {\n",
       "        vertical-align: middle;\n",
       "    }\n",
       "\n",
       "    .dataframe tbody tr th {\n",
       "        vertical-align: top;\n",
       "    }\n",
       "\n",
       "    .dataframe thead th {\n",
       "        text-align: right;\n",
       "    }\n",
       "</style>\n",
       "<table border=\"1\" class=\"dataframe\">\n",
       "  <thead>\n",
       "    <tr style=\"text-align: right;\">\n",
       "      <th></th>\n",
       "      <th>Model</th>\n",
       "      <th>Fitting time</th>\n",
       "      <th>Scoring time</th>\n",
       "      <th>Accuracy</th>\n",
       "      <th>Precision</th>\n",
       "      <th>Recall</th>\n",
       "      <th>F1_score</th>\n",
       "      <th>AUC_ROC</th>\n",
       "    </tr>\n",
       "  </thead>\n",
       "  <tbody>\n",
       "    <tr>\n",
       "      <th>4</th>\n",
       "      <td>Random Forest</td>\n",
       "      <td>0.454023</td>\n",
       "      <td>0.034376</td>\n",
       "      <td>0.781287</td>\n",
       "      <td>0.790565</td>\n",
       "      <td>0.787790</td>\n",
       "      <td>0.780765</td>\n",
       "      <td>0.851792</td>\n",
       "    </tr>\n",
       "    <tr>\n",
       "      <th>1</th>\n",
       "      <td>Decision Tree</td>\n",
       "      <td>0.078439</td>\n",
       "      <td>0.009567</td>\n",
       "      <td>0.778439</td>\n",
       "      <td>0.789723</td>\n",
       "      <td>0.785603</td>\n",
       "      <td>0.777652</td>\n",
       "      <td>0.842532</td>\n",
       "    </tr>\n",
       "    <tr>\n",
       "      <th>5</th>\n",
       "      <td>K-Nearest Neighbors</td>\n",
       "      <td>0.620392</td>\n",
       "      <td>0.130672</td>\n",
       "      <td>0.758486</td>\n",
       "      <td>0.759262</td>\n",
       "      <td>0.760402</td>\n",
       "      <td>0.758746</td>\n",
       "      <td>0.820673</td>\n",
       "    </tr>\n",
       "    <tr>\n",
       "      <th>0</th>\n",
       "      <td>Logistic Regression</td>\n",
       "      <td>0.149026</td>\n",
       "      <td>0.003124</td>\n",
       "      <td>0.539136</td>\n",
       "      <td>0.362277</td>\n",
       "      <td>0.500554</td>\n",
       "      <td>0.378671</td>\n",
       "      <td>0.681139</td>\n",
       "    </tr>\n",
       "    <tr>\n",
       "      <th>2</th>\n",
       "      <td>Linear Discriminant Analysis</td>\n",
       "      <td>0.018190</td>\n",
       "      <td>0.005768</td>\n",
       "      <td>0.538667</td>\n",
       "      <td>0.281834</td>\n",
       "      <td>0.500002</td>\n",
       "      <td>0.377187</td>\n",
       "      <td>0.693879</td>\n",
       "    </tr>\n",
       "    <tr>\n",
       "      <th>3</th>\n",
       "      <td>Quadratic Discriminant Analysis</td>\n",
       "      <td>0.011961</td>\n",
       "      <td>0.007380</td>\n",
       "      <td>0.483484</td>\n",
       "      <td>0.723347</td>\n",
       "      <td>0.516951</td>\n",
       "      <td>0.335044</td>\n",
       "      <td>0.684759</td>\n",
       "    </tr>\n",
       "    <tr>\n",
       "      <th>6</th>\n",
       "      <td>Bayes</td>\n",
       "      <td>0.012274</td>\n",
       "      <td>0.007149</td>\n",
       "      <td>0.477985</td>\n",
       "      <td>0.720270</td>\n",
       "      <td>0.511849</td>\n",
       "      <td>0.323583</td>\n",
       "      <td>0.684423</td>\n",
       "    </tr>\n",
       "  </tbody>\n",
       "</table>\n",
       "</div>"
      ],
      "text/plain": [
       "                             Model  Fitting time  Scoring time  Accuracy  \\\n",
       "4                    Random Forest      0.454023      0.034376  0.781287   \n",
       "1                    Decision Tree      0.078439      0.009567  0.778439   \n",
       "5              K-Nearest Neighbors      0.620392      0.130672  0.758486   \n",
       "0              Logistic Regression      0.149026      0.003124  0.539136   \n",
       "2     Linear Discriminant Analysis      0.018190      0.005768  0.538667   \n",
       "3  Quadratic Discriminant Analysis      0.011961      0.007380  0.483484   \n",
       "6                            Bayes      0.012274      0.007149  0.477985   \n",
       "\n",
       "   Precision    Recall  F1_score   AUC_ROC  \n",
       "4   0.790565  0.787790  0.780765  0.851792  \n",
       "1   0.789723  0.785603  0.777652  0.842532  \n",
       "5   0.759262  0.760402  0.758746  0.820673  \n",
       "0   0.362277  0.500554  0.378671  0.681139  \n",
       "2   0.281834  0.500002  0.377187  0.693879  \n",
       "3   0.723347  0.516951  0.335044  0.684759  \n",
       "6   0.720270  0.511849  0.323583  0.684423  "
      ]
     },
     "execution_count": 18,
     "metadata": {},
     "output_type": "execute_result"
    }
   ],
   "source": [
    "models_initial = pd.DataFrame({\n",
    "    'Model'       : ['Logistic Regression', 'Decision Tree', 'Linear Discriminant Analysis', 'Quadratic Discriminant Analysis', 'Random Forest', 'K-Nearest Neighbors', 'Bayes'],\n",
    "    'Fitting time': [LR_fit_time, dtree_fit_time,  LDA_fit_time, QDA_fit_time, forest_fit_time, KNN_fit_time, bayes_fit_time],\n",
    "    'Scoring time': [LR_score_time, dtree_score_time, LDA_score_time, QDA_score_time, forest_score_time, KNN_score_time, bayes_score_time],\n",
    "    'Accuracy'    : [LR_accuracy, dtree_accuracy,  LDA_accuracy, QDA_accuracy, forest_accuracy, KNN_accuracy, bayes_accuracy],\n",
    "    'Precision'   : [LR_precision, dtree_precision, LDA_precision, QDA_precision, forest_precision, KNN_precision, bayes_precision],\n",
    "    'Recall'      : [LR_recall, dtree_recall, LDA_recall, QDA_recall, forest_recall, KNN_recall, bayes_recall],\n",
    "    'F1_score'    : [LR_f1, dtree_f1,  LDA_f1, QDA_f1, forest_f1, KNN_f1, bayes_f1],\n",
    "    'AUC_ROC'     : [LR_roc, dtree_roc, LDA_roc, QDA_roc, forest_roc, KNN_roc, bayes_roc],\n",
    "    }, columns = ['Model', 'Fitting time', 'Scoring time', 'Accuracy', 'Precision', 'Recall', 'F1_score', 'AUC_ROC'])\n",
    "\n",
    "models_initial.sort_values(by='Accuracy', ascending=False)"
   ]
  },
  {
   "cell_type": "markdown",
   "metadata": {},
   "source": [
    "## Voting classifier <a class=\"anchor\" id=\"voting\"></a>"
   ]
  },
  {
   "cell_type": "code",
   "execution_count": 21,
   "metadata": {},
   "outputs": [],
   "source": [
    "models = [LogisticRegression(),\n",
    "         DecisionTreeClassifier(),\n",
    "         LinearDiscriminantAnalysis(),\n",
    "         QuadraticDiscriminantAnalysis(),\n",
    "         RandomForestClassifier(),\n",
    "         KNeighborsClassifier(),\n",
    "         GaussianNB()]\n",
    "\n",
    "scoring = ['accuracy', 'precision_macro', 'recall_macro' , 'f1_weighted', 'roc_auc']"
   ]
  },
  {
   "cell_type": "code",
   "execution_count": 22,
   "metadata": {},
   "outputs": [],
   "source": [
    "X_train, X_test, y_train, y_test = train_test_split(X,y,test_size=0.34)"
   ]
  },
  {
   "cell_type": "code",
   "execution_count": 23,
   "metadata": {},
   "outputs": [],
   "source": [
    "for model in models:\n",
    "    scores = cross_validate(model, X_train, y_train, scoring=scoring, cv=20)"
   ]
  },
  {
   "cell_type": "markdown",
   "metadata": {},
   "source": [
    "#### Hard"
   ]
  },
  {
   "cell_type": "code",
   "execution_count": 24,
   "metadata": {},
   "outputs": [],
   "source": [
    "models_ens = list(zip(['LR', 'DT', 'SVM', 'LDA', 'QDA', 'RF', 'KNN', 'NB'], models))\n",
    "\n",
    "model_ens = VotingClassifier(estimators = models_ens, voting = 'hard')\n",
    "model_ens.fit(X_train, y_train)\n",
    "pred = model_ens.predict(X_test)\n",
    "#prob = model_ens.predict_proba(X_test)[:,1]\n",
    "\n",
    "acc_hard = accuracy_score(y_test, pred)\n",
    "prec_hard = precision_score(y_test, pred)\n",
    "recall_hard = recall_score(y_test, pred)\n",
    "f1_hard = f1_score(y_test, pred)\n",
    "roc_auc_hard = 'not applicable'"
   ]
  },
  {
   "cell_type": "markdown",
   "metadata": {},
   "source": [
    "#### Soft"
   ]
  },
  {
   "cell_type": "code",
   "execution_count": 25,
   "metadata": {},
   "outputs": [],
   "source": [
    "model_ens = VotingClassifier(estimators = models_ens, voting = 'soft')\n",
    "model_ens.fit(X_train, y_train)\n",
    "pred = model_ens.predict(X_test)\n",
    "prob = model_ens.predict_proba(X_test)[:,1]\n",
    "\n",
    "acc_soft = accuracy_score(y_test, pred)\n",
    "prec_soft = precision_score(y_test, pred)\n",
    "recall_soft = recall_score(y_test, pred)\n",
    "f1_soft = f1_score(y_test, pred)\n",
    "roc_auc_soft = roc_auc_score(y_test, prob)"
   ]
  },
  {
   "cell_type": "markdown",
   "metadata": {},
   "source": [
    "#### Comparicion"
   ]
  },
  {
   "cell_type": "code",
   "execution_count": 27,
   "metadata": {},
   "outputs": [
    {
     "data": {
      "text/html": [
       "<div>\n",
       "<style scoped>\n",
       "    .dataframe tbody tr th:only-of-type {\n",
       "        vertical-align: middle;\n",
       "    }\n",
       "\n",
       "    .dataframe tbody tr th {\n",
       "        vertical-align: top;\n",
       "    }\n",
       "\n",
       "    .dataframe thead th {\n",
       "        text-align: right;\n",
       "    }\n",
       "</style>\n",
       "<table border=\"1\" class=\"dataframe\">\n",
       "  <thead>\n",
       "    <tr style=\"text-align: right;\">\n",
       "      <th></th>\n",
       "      <th>Model</th>\n",
       "      <th>Accuracy</th>\n",
       "      <th>Precision</th>\n",
       "      <th>Recall</th>\n",
       "      <th>F1_score</th>\n",
       "      <th>AUC_ROC</th>\n",
       "    </tr>\n",
       "  </thead>\n",
       "  <tbody>\n",
       "    <tr>\n",
       "      <th>1</th>\n",
       "      <td>Ensembling_soft</td>\n",
       "      <td>0.774735</td>\n",
       "      <td>0.800023</td>\n",
       "      <td>0.775051</td>\n",
       "      <td>0.787339</td>\n",
       "      <td>0.849972</td>\n",
       "    </tr>\n",
       "    <tr>\n",
       "      <th>0</th>\n",
       "      <td>Ensebling_hard</td>\n",
       "      <td>0.549147</td>\n",
       "      <td>0.544454</td>\n",
       "      <td>0.992237</td>\n",
       "      <td>0.703105</td>\n",
       "      <td>not applicable</td>\n",
       "    </tr>\n",
       "  </tbody>\n",
       "</table>\n",
       "</div>"
      ],
      "text/plain": [
       "             Model  Accuracy  Precision    Recall  F1_score         AUC_ROC\n",
       "1  Ensembling_soft  0.774735   0.800023  0.775051  0.787339        0.849972\n",
       "0   Ensebling_hard  0.549147   0.544454  0.992237  0.703105  not applicable"
      ]
     },
     "execution_count": 27,
     "metadata": {},
     "output_type": "execute_result"
    }
   ],
   "source": [
    "models_ensembling = pd.DataFrame({\n",
    "    'Model'       : ['Ensebling_hard', 'Ensembling_soft'],\n",
    "    'Accuracy'    : [acc_hard, acc_soft],\n",
    "    'Precision'   : [prec_hard, prec_soft],\n",
    "    'Recall'      : [recall_hard, recall_soft],\n",
    "    'F1_score'    : [f1_hard, f1_soft],\n",
    "    'AUC_ROC'     : [roc_auc_hard, roc_auc_soft],\n",
    "    }, columns = ['Model', 'Accuracy', 'Precision', 'Recall', 'F1_score', 'AUC_ROC'])\n",
    "\n",
    "models_ensembling.sort_values(by='Accuracy', ascending=False)"
   ]
  },
  {
   "cell_type": "markdown",
   "metadata": {},
   "source": [
    "# Linear SVC + SelectFromModel <a class=\"anchor\" id=\"linear_model\"></a>\n"
   ]
  },
  {
   "cell_type": "code",
   "execution_count": 33,
   "metadata": {},
   "outputs": [
    {
     "data": {
      "text/plain": [
       "(100000, 2)"
      ]
     },
     "execution_count": 33,
     "metadata": {},
     "output_type": "execute_result"
    }
   ],
   "source": [
    "X.shape"
   ]
  },
  {
   "cell_type": "code",
   "execution_count": 32,
   "metadata": {},
   "outputs": [
    {
     "data": {
      "text/plain": [
       "(100000, 1)"
      ]
     },
     "execution_count": 32,
     "metadata": {},
     "output_type": "execute_result"
    }
   ],
   "source": [
    "lsvc = LinearSVC(C=0.05, penalty=\"l1\", dual=False).fit(X, y)\n",
    "model = SelectFromModel(lsvc, prefit=True)\n",
    "X_svc = model.transform(X)\n",
    "X_svc.shape #reduction from 30 to 10 features"
   ]
  },
  {
   "cell_type": "code",
   "execution_count": null,
   "metadata": {},
   "outputs": [],
   "source": []
  }
 ],
 "metadata": {
  "kernelspec": {
   "display_name": "Python 3",
   "language": "python",
   "name": "python3"
  },
  "language_info": {
   "codemirror_mode": {
    "name": "ipython",
    "version": 3
   },
   "file_extension": ".py",
   "mimetype": "text/x-python",
   "name": "python",
   "nbconvert_exporter": "python",
   "pygments_lexer": "ipython3",
   "version": "3.6.10"
  }
 },
 "nbformat": 4,
 "nbformat_minor": 2
}
